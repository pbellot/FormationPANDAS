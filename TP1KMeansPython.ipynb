{
 "nbformat": 4,
 "nbformat_minor": 0,
 "metadata": {
  "colab": {
   "name": "TP1KMeansPython.ipynb",
   "provenance": [],
   "collapsed_sections": []
  },
  "kernelspec": {
   "name": "python3",
   "display_name": "Python 3"
  }
 },
 "cells": [
  {
   "cell_type": "code",
   "metadata": {
    "id": "WZgQcL3Q-NGF",
    "pycharm": {
     "name": "#%%\n"
    }
   },
   "source": [
    "import pandas as pd\n",
    "from sklearn.cluster import KMeans\n",
    "from sklearn.decomposition import PCA\n",
    "from mpl_toolkits.mplot3d import Axes3D\n",
    "import matplotlib.pyplot as plt\n",
    "import plotly.express as px"
   ],
   "execution_count": 4,
   "outputs": []
  },
  {
   "cell_type": "code",
   "metadata": {
    "colab": {
     "base_uri": "https://localhost:8080/",
     "height": 226
    },
    "id": "6uBxIpCx-FWB",
    "outputId": "273c64f1-cc7c-498c-d8b3-0f0e7516861a",
    "pycharm": {
     "name": "#%%\n"
    }
   },
   "source": [
    "fichierCSVEntree = \"http://factominer.free.fr/book/temperature.csv\"\n",
    "tempDataFrame = pd.read_csv(fichierCSVEntree, sep=\";\", index_col=0, encoding=\"utf-8\")\n",
    "tempDataFrame.head()"
   ],
   "execution_count": 71,
   "outputs": [
    {
     "output_type": "execute_result",
     "data": {
      "text/html": [
       "<div>\n",
       "<style scoped>\n",
       "    .dataframe tbody tr th:only-of-type {\n",
       "        vertical-align: middle;\n",
       "    }\n",
       "\n",
       "    .dataframe tbody tr th {\n",
       "        vertical-align: top;\n",
       "    }\n",
       "\n",
       "    .dataframe thead th {\n",
       "        text-align: right;\n",
       "    }\n",
       "</style>\n",
       "<table border=\"1\" class=\"dataframe\">\n",
       "  <thead>\n",
       "    <tr style=\"text-align: right;\">\n",
       "      <th></th>\n",
       "      <th>January</th>\n",
       "      <th>February</th>\n",
       "      <th>March</th>\n",
       "      <th>April</th>\n",
       "      <th>May</th>\n",
       "      <th>June</th>\n",
       "      <th>July</th>\n",
       "      <th>August</th>\n",
       "      <th>September</th>\n",
       "      <th>October</th>\n",
       "      <th>November</th>\n",
       "      <th>December</th>\n",
       "      <th>Annual</th>\n",
       "      <th>Amplitude</th>\n",
       "      <th>Latitude</th>\n",
       "      <th>Longitude</th>\n",
       "      <th>Area</th>\n",
       "    </tr>\n",
       "  </thead>\n",
       "  <tbody>\n",
       "    <tr>\n",
       "      <th>Amsterdam</th>\n",
       "      <td>2.9</td>\n",
       "      <td>2.5</td>\n",
       "      <td>5.7</td>\n",
       "      <td>8.2</td>\n",
       "      <td>12.5</td>\n",
       "      <td>14.8</td>\n",
       "      <td>17.1</td>\n",
       "      <td>17.1</td>\n",
       "      <td>14.5</td>\n",
       "      <td>11.4</td>\n",
       "      <td>7.0</td>\n",
       "      <td>4.4</td>\n",
       "      <td>9.9</td>\n",
       "      <td>14.6</td>\n",
       "      <td>52.2</td>\n",
       "      <td>4.5</td>\n",
       "      <td>West</td>\n",
       "    </tr>\n",
       "    <tr>\n",
       "      <th>Athens</th>\n",
       "      <td>9.1</td>\n",
       "      <td>9.7</td>\n",
       "      <td>11.7</td>\n",
       "      <td>15.4</td>\n",
       "      <td>20.1</td>\n",
       "      <td>24.5</td>\n",
       "      <td>27.4</td>\n",
       "      <td>27.2</td>\n",
       "      <td>23.8</td>\n",
       "      <td>19.2</td>\n",
       "      <td>14.6</td>\n",
       "      <td>11.0</td>\n",
       "      <td>17.8</td>\n",
       "      <td>18.3</td>\n",
       "      <td>37.6</td>\n",
       "      <td>23.5</td>\n",
       "      <td>South</td>\n",
       "    </tr>\n",
       "    <tr>\n",
       "      <th>Berlin</th>\n",
       "      <td>-0.2</td>\n",
       "      <td>0.1</td>\n",
       "      <td>4.4</td>\n",
       "      <td>8.2</td>\n",
       "      <td>13.8</td>\n",
       "      <td>16.0</td>\n",
       "      <td>18.3</td>\n",
       "      <td>18.0</td>\n",
       "      <td>14.4</td>\n",
       "      <td>10.0</td>\n",
       "      <td>4.2</td>\n",
       "      <td>1.2</td>\n",
       "      <td>9.1</td>\n",
       "      <td>18.5</td>\n",
       "      <td>52.3</td>\n",
       "      <td>13.2</td>\n",
       "      <td>West</td>\n",
       "    </tr>\n",
       "    <tr>\n",
       "      <th>Brussels</th>\n",
       "      <td>3.3</td>\n",
       "      <td>3.3</td>\n",
       "      <td>6.7</td>\n",
       "      <td>8.9</td>\n",
       "      <td>12.8</td>\n",
       "      <td>15.6</td>\n",
       "      <td>17.8</td>\n",
       "      <td>17.8</td>\n",
       "      <td>15.0</td>\n",
       "      <td>11.1</td>\n",
       "      <td>6.7</td>\n",
       "      <td>4.4</td>\n",
       "      <td>10.3</td>\n",
       "      <td>14.4</td>\n",
       "      <td>50.5</td>\n",
       "      <td>4.2</td>\n",
       "      <td>West</td>\n",
       "    </tr>\n",
       "    <tr>\n",
       "      <th>Budapest</th>\n",
       "      <td>-1.1</td>\n",
       "      <td>0.8</td>\n",
       "      <td>5.5</td>\n",
       "      <td>11.6</td>\n",
       "      <td>17.0</td>\n",
       "      <td>20.2</td>\n",
       "      <td>22.0</td>\n",
       "      <td>21.3</td>\n",
       "      <td>16.9</td>\n",
       "      <td>11.3</td>\n",
       "      <td>5.1</td>\n",
       "      <td>0.7</td>\n",
       "      <td>10.9</td>\n",
       "      <td>23.1</td>\n",
       "      <td>47.3</td>\n",
       "      <td>19.0</td>\n",
       "      <td>East</td>\n",
       "    </tr>\n",
       "  </tbody>\n",
       "</table>\n",
       "</div>"
      ],
      "text/plain": [
       "            January  February  March  ...  Latitude  Longitude   Area\n",
       "Amsterdam       2.9       2.5    5.7  ...      52.2        4.5   West\n",
       "Athens          9.1       9.7   11.7  ...      37.6       23.5  South\n",
       "Berlin         -0.2       0.1    4.4  ...      52.3       13.2   West\n",
       "Brussels        3.3       3.3    6.7  ...      50.5        4.2   West\n",
       "Budapest       -1.1       0.8    5.5  ...      47.3       19.0   East\n",
       "\n",
       "[5 rows x 17 columns]"
      ]
     },
     "metadata": {
      "tags": []
     },
     "execution_count": 71
    }
   ]
  },
  {
   "cell_type": "code",
   "metadata": {
    "colab": {
     "base_uri": "https://localhost:8080/"
    },
    "id": "Yz7DbD8zHQDi",
    "outputId": "605f3252-ed2d-4cc1-a21a-e6d90f8d8743",
    "pycharm": {
     "name": "#%%\n"
    }
   },
   "source": [
    "print(tempDataFrame.index)"
   ],
   "execution_count": 72,
   "outputs": [
    {
     "output_type": "stream",
     "text": [
      "Index(['Amsterdam ', 'Athens ', 'Berlin ', 'Brussels', 'Budapest ',\n",
      "       'Copenhagen ', 'Dublin ', 'Elsinki', 'Kiev ', 'Krakow ', 'Lisbon ',\n",
      "       'London ', 'Madrid ', 'Minsk ', 'Moscow', 'Oslo ', 'Paris ', 'Prague ',\n",
      "       'Reykjavik ', 'Rome ', 'Sarajevo ', 'Sofia ', 'Stockholm ', 'Antwerp ',\n",
      "       'Barcelona ', 'Bordeaux ', 'Edinburgh ', 'Frankfurt ', 'Geneva ',\n",
      "       'Genoa ', 'Milan ', 'Palermo ', 'Seville ', 'St. Petersburg ',\n",
      "       'Zurich '],\n",
      "      dtype='object')\n"
     ],
     "name": "stdout"
    }
   ]
  },
  {
   "cell_type": "code",
   "metadata": {
    "colab": {
     "base_uri": "https://localhost:8080/"
    },
    "id": "fq3wgVNON43k",
    "outputId": "718bf78a-f8f8-4d30-ecfc-bef569443777",
    "pycharm": {
     "name": "#%%\n"
    }
   },
   "source": [
    "tempDataFrame.loc[tempDataFrame.index[0]]"
   ],
   "execution_count": 73,
   "outputs": [
    {
     "output_type": "execute_result",
     "data": {
      "text/plain": [
       "January       2.9\n",
       "February      2.5\n",
       "March         5.7\n",
       "April         8.2\n",
       "May          12.5\n",
       "June         14.8\n",
       "July         17.1\n",
       "August       17.1\n",
       "September    14.5\n",
       "October      11.4\n",
       "November        7\n",
       "December      4.4\n",
       "Annual        9.9\n",
       "Amplitude    14.6\n",
       "Latitude     52.2\n",
       "Longitude     4.5\n",
       "Area         West\n",
       "Name: Amsterdam , dtype: object"
      ]
     },
     "metadata": {
      "tags": []
     },
     "execution_count": 73
    }
   ]
  },
  {
   "cell_type": "code",
   "metadata": {
    "colab": {
     "base_uri": "https://localhost:8080/"
    },
    "id": "ORAGn8IKOe-P",
    "outputId": "d7ed2d95-e22b-449f-da72-bf087ea17d58",
    "pycharm": {
     "name": "#%%\n"
    }
   },
   "source": [
    "tempDataFrame.loc['Amsterdam ']"
   ],
   "execution_count": 75,
   "outputs": [
    {
     "output_type": "execute_result",
     "data": {
      "text/plain": [
       "January       2.9\n",
       "February      2.5\n",
       "March         5.7\n",
       "April         8.2\n",
       "May          12.5\n",
       "June         14.8\n",
       "July         17.1\n",
       "August       17.1\n",
       "September    14.5\n",
       "October      11.4\n",
       "November        7\n",
       "December      4.4\n",
       "Annual        9.9\n",
       "Amplitude    14.6\n",
       "Latitude     52.2\n",
       "Longitude     4.5\n",
       "Area         West\n",
       "Name: Amsterdam , dtype: object"
      ]
     },
     "metadata": {
      "tags": []
     },
     "execution_count": 75
    }
   ]
  },
  {
   "cell_type": "code",
   "metadata": {
    "colab": {
     "base_uri": "https://localhost:8080/"
    },
    "id": "mLUG0VgFHVl5",
    "outputId": "e80cb728-83cd-48b3-94b9-02aa75f4ab82",
    "pycharm": {
     "name": "#%%\n"
    }
   },
   "source": [
    "print(tempDataFrame['January'])"
   ],
   "execution_count": 34,
   "outputs": [
    {
     "output_type": "stream",
     "text": [
      "Amsterdam           2.9\n",
      "Athens              9.1\n",
      "Berlin             -0.2\n",
      "Brussels            3.3\n",
      "Budapest           -1.1\n",
      "Copenhagen         -0.4\n",
      "Dublin              4.8\n",
      "Elsinki            -5.8\n",
      "Kiev               -5.9\n",
      "Krakow             -3.7\n",
      "Lisbon             10.5\n",
      "London              3.4\n",
      "Madrid              5.0\n",
      "Minsk              -6.9\n",
      "Moscow             -9.3\n",
      "Oslo               -4.3\n",
      "Paris               3.7\n",
      "Prague             -1.3\n",
      "Reykjavik          -0.3\n",
      "Rome                7.1\n",
      "Sarajevo           -1.4\n",
      "Sofia              -1.7\n",
      "Stockholm          -3.5\n",
      "Antwerp             3.1\n",
      "Barcelona           9.1\n",
      "Bordeaux            5.6\n",
      "Edinburgh           2.9\n",
      "Frankfurt           0.2\n",
      "Geneva              0.1\n",
      "Genoa               8.7\n",
      "Milan               1.1\n",
      "Palermo            10.5\n",
      "Seville            10.7\n",
      "St. Petersburg     -8.2\n",
      "Zurich             -0.7\n",
      "Name: January, dtype: float64\n"
     ],
     "name": "stdout"
    }
   ]
  },
  {
   "cell_type": "code",
   "metadata": {
    "colab": {
     "base_uri": "https://localhost:8080/"
    },
    "id": "cCKDlUjHINcS",
    "outputId": "b56514b0-3113-4b1e-f658-7bf28932efc6",
    "pycharm": {
     "name": "#%%\n"
    }
   },
   "source": [
    "tempDataFrame.January"
   ],
   "execution_count": 37,
   "outputs": [
    {
     "output_type": "execute_result",
     "data": {
      "text/plain": [
       "Amsterdam           2.9\n",
       "Athens              9.1\n",
       "Berlin             -0.2\n",
       "Brussels            3.3\n",
       "Budapest           -1.1\n",
       "Copenhagen         -0.4\n",
       "Dublin              4.8\n",
       "Elsinki            -5.8\n",
       "Kiev               -5.9\n",
       "Krakow             -3.7\n",
       "Lisbon             10.5\n",
       "London              3.4\n",
       "Madrid              5.0\n",
       "Minsk              -6.9\n",
       "Moscow             -9.3\n",
       "Oslo               -4.3\n",
       "Paris               3.7\n",
       "Prague             -1.3\n",
       "Reykjavik          -0.3\n",
       "Rome                7.1\n",
       "Sarajevo           -1.4\n",
       "Sofia              -1.7\n",
       "Stockholm          -3.5\n",
       "Antwerp             3.1\n",
       "Barcelona           9.1\n",
       "Bordeaux            5.6\n",
       "Edinburgh           2.9\n",
       "Frankfurt           0.2\n",
       "Geneva              0.1\n",
       "Genoa               8.7\n",
       "Milan               1.1\n",
       "Palermo            10.5\n",
       "Seville            10.7\n",
       "St. Petersburg     -8.2\n",
       "Zurich             -0.7\n",
       "Name: January, dtype: float64"
      ]
     },
     "metadata": {
      "tags": []
     },
     "execution_count": 37
    }
   ]
  },
  {
   "cell_type": "code",
   "metadata": {
    "colab": {
     "base_uri": "https://localhost:8080/",
     "height": 164
    },
    "id": "vDrDKd__Ia21",
    "outputId": "d681bc0d-3bd0-46b4-837a-c91817c891d9",
    "pycharm": {
     "name": "#%%\n"
    }
   },
   "source": [
    "tempDataFrame[0:3]"
   ],
   "execution_count": 38,
   "outputs": [
    {
     "output_type": "execute_result",
     "data": {
      "text/html": [
       "<div>\n",
       "<style scoped>\n",
       "    .dataframe tbody tr th:only-of-type {\n",
       "        vertical-align: middle;\n",
       "    }\n",
       "\n",
       "    .dataframe tbody tr th {\n",
       "        vertical-align: top;\n",
       "    }\n",
       "\n",
       "    .dataframe thead th {\n",
       "        text-align: right;\n",
       "    }\n",
       "</style>\n",
       "<table border=\"1\" class=\"dataframe\">\n",
       "  <thead>\n",
       "    <tr style=\"text-align: right;\">\n",
       "      <th></th>\n",
       "      <th>January</th>\n",
       "      <th>February</th>\n",
       "      <th>March</th>\n",
       "      <th>April</th>\n",
       "      <th>May</th>\n",
       "      <th>June</th>\n",
       "      <th>July</th>\n",
       "      <th>August</th>\n",
       "      <th>September</th>\n",
       "      <th>October</th>\n",
       "      <th>November</th>\n",
       "      <th>December</th>\n",
       "      <th>Annual</th>\n",
       "      <th>Amplitude</th>\n",
       "      <th>Latitude</th>\n",
       "      <th>Longitude</th>\n",
       "      <th>Area</th>\n",
       "    </tr>\n",
       "  </thead>\n",
       "  <tbody>\n",
       "    <tr>\n",
       "      <th>Amsterdam</th>\n",
       "      <td>2.9</td>\n",
       "      <td>2.5</td>\n",
       "      <td>5.7</td>\n",
       "      <td>8.2</td>\n",
       "      <td>12.5</td>\n",
       "      <td>14.8</td>\n",
       "      <td>17.1</td>\n",
       "      <td>17.1</td>\n",
       "      <td>14.5</td>\n",
       "      <td>11.4</td>\n",
       "      <td>7.0</td>\n",
       "      <td>4.4</td>\n",
       "      <td>9.9</td>\n",
       "      <td>14.6</td>\n",
       "      <td>52.2</td>\n",
       "      <td>4.5</td>\n",
       "      <td>West</td>\n",
       "    </tr>\n",
       "    <tr>\n",
       "      <th>Athens</th>\n",
       "      <td>9.1</td>\n",
       "      <td>9.7</td>\n",
       "      <td>11.7</td>\n",
       "      <td>15.4</td>\n",
       "      <td>20.1</td>\n",
       "      <td>24.5</td>\n",
       "      <td>27.4</td>\n",
       "      <td>27.2</td>\n",
       "      <td>23.8</td>\n",
       "      <td>19.2</td>\n",
       "      <td>14.6</td>\n",
       "      <td>11.0</td>\n",
       "      <td>17.8</td>\n",
       "      <td>18.3</td>\n",
       "      <td>37.6</td>\n",
       "      <td>23.5</td>\n",
       "      <td>South</td>\n",
       "    </tr>\n",
       "    <tr>\n",
       "      <th>Berlin</th>\n",
       "      <td>-0.2</td>\n",
       "      <td>0.1</td>\n",
       "      <td>4.4</td>\n",
       "      <td>8.2</td>\n",
       "      <td>13.8</td>\n",
       "      <td>16.0</td>\n",
       "      <td>18.3</td>\n",
       "      <td>18.0</td>\n",
       "      <td>14.4</td>\n",
       "      <td>10.0</td>\n",
       "      <td>4.2</td>\n",
       "      <td>1.2</td>\n",
       "      <td>9.1</td>\n",
       "      <td>18.5</td>\n",
       "      <td>52.3</td>\n",
       "      <td>13.2</td>\n",
       "      <td>West</td>\n",
       "    </tr>\n",
       "  </tbody>\n",
       "</table>\n",
       "</div>"
      ],
      "text/plain": [
       "            January  February  March  ...  Latitude  Longitude   Area\n",
       "Amsterdam       2.9       2.5    5.7  ...      52.2        4.5   West\n",
       "Athens          9.1       9.7   11.7  ...      37.6       23.5  South\n",
       "Berlin         -0.2       0.1    4.4  ...      52.3       13.2   West\n",
       "\n",
       "[3 rows x 17 columns]"
      ]
     },
     "metadata": {
      "tags": []
     },
     "execution_count": 38
    }
   ]
  },
  {
   "cell_type": "code",
   "metadata": {
    "colab": {
     "base_uri": "https://localhost:8080/"
    },
    "id": "xZdYI2UFIg-9",
    "outputId": "e29c44fd-e77c-41c3-c78d-a189996b8ad2",
    "pycharm": {
     "name": "#%%\n"
    }
   },
   "source": [
    "tempDataFrame.loc[tempDataFrame.index[0]]"
   ],
   "execution_count": 47,
   "outputs": [
    {
     "output_type": "execute_result",
     "data": {
      "text/plain": [
       "January       2.9\n",
       "February      2.5\n",
       "March         5.7\n",
       "April         8.2\n",
       "May          12.5\n",
       "June         14.8\n",
       "July         17.1\n",
       "August       17.1\n",
       "September    14.5\n",
       "October      11.4\n",
       "November        7\n",
       "December      4.4\n",
       "Annual        9.9\n",
       "Amplitude    14.6\n",
       "Latitude     52.2\n",
       "Longitude     4.5\n",
       "Area         West\n",
       "Name: Amsterdam , dtype: object"
      ]
     },
     "metadata": {
      "tags": []
     },
     "execution_count": 47
    }
   ]
  },
  {
   "cell_type": "code",
   "metadata": {
    "colab": {
     "base_uri": "https://localhost:8080/"
    },
    "id": "IBW9GjQ6JI-O",
    "outputId": "db1dde0a-fa9e-4184-836a-493dbc17068c",
    "pycharm": {
     "name": "#%%\n"
    }
   },
   "source": [
    "tempDataFrame.iloc[0]"
   ],
   "execution_count": 58,
   "outputs": [
    {
     "output_type": "execute_result",
     "data": {
      "text/plain": [
       "January       2.9\n",
       "February      2.5\n",
       "March         5.7\n",
       "April         8.2\n",
       "May          12.5\n",
       "June         14.8\n",
       "July         17.1\n",
       "August       17.1\n",
       "September    14.5\n",
       "October      11.4\n",
       "November        7\n",
       "December      4.4\n",
       "Annual        9.9\n",
       "Amplitude    14.6\n",
       "Latitude     52.2\n",
       "Longitude     4.5\n",
       "Area         West\n",
       "Name: Amsterdam , dtype: object"
      ]
     },
     "metadata": {
      "tags": []
     },
     "execution_count": 58
    }
   ]
  },
  {
   "cell_type": "code",
   "metadata": {
    "colab": {
     "base_uri": "https://localhost:8080/"
    },
    "id": "s8fnDmtBKlSC",
    "outputId": "e0d6f1f5-60eb-4ca2-feb4-3fc823d4f146",
    "pycharm": {
     "name": "#%%\n"
    }
   },
   "source": [
    "tempDataFrame['March'][tempDataFrame['March']>10]"
   ],
   "execution_count": 49,
   "outputs": [
    {
     "output_type": "execute_result",
     "data": {
      "text/plain": [
       "Athens        11.7\n",
       "Lisbon        12.8\n",
       "Rome          10.5\n",
       "Barcelona     11.8\n",
       "Genoa         11.4\n",
       "Palermo       13.3\n",
       "Seville       14.1\n",
       "Name: March, dtype: float64"
      ]
     },
     "metadata": {
      "tags": []
     },
     "execution_count": 49
    }
   ]
  },
  {
   "cell_type": "code",
   "metadata": {
    "colab": {
     "base_uri": "https://localhost:8080/"
    },
    "id": "Isn3443WKrZ2",
    "outputId": "d24439f3-0fd7-42d5-aaf0-6100481a0d7a",
    "pycharm": {
     "name": "#%%\n"
    }
   },
   "source": [
    "tempDataFrame['March'].iloc[0]"
   ],
   "execution_count": 57,
   "outputs": [
    {
     "output_type": "execute_result",
     "data": {
      "text/plain": [
       "5.7"
      ]
     },
     "metadata": {
      "tags": []
     },
     "execution_count": 57
    }
   ]
  },
  {
   "cell_type": "code",
   "metadata": {
    "id": "zqGZn0dqLrBK",
    "pycharm": {
     "name": "#%%\n"
    }
   },
   "source": [
    "tempDataFrame['March']"
   ],
   "execution_count": null,
   "outputs": []
  },
  {
   "cell_type": "code",
   "metadata": {
    "colab": {
     "base_uri": "https://localhost:8080/"
    },
    "id": "npUh5LxBH8Oc",
    "outputId": "92d90d39-1565-4f42-ccdc-983cfe40e218",
    "pycharm": {
     "name": "#%%\n"
    }
   },
   "source": [
    "print(tempDataFrame.columns)"
   ],
   "execution_count": 35,
   "outputs": [
    {
     "output_type": "stream",
     "text": [
      "Index(['January', 'February', 'March', 'April', 'May', 'June', 'July',\n",
      "       'August', 'September', 'October', 'November', 'December', 'Annual',\n",
      "       'Amplitude', 'Latitude', 'Longitude', 'Area'],\n",
      "      dtype='object')\n"
     ],
     "name": "stdout"
    }
   ]
  },
  {
   "cell_type": "code",
   "metadata": {
    "colab": {
     "base_uri": "https://localhost:8080/",
     "height": 320
    },
    "id": "zZRYyqqDIBwL",
    "outputId": "e3ae01ed-6620-4e63-d5f7-41ef7a0e28d2",
    "pycharm": {
     "name": "#%%\n"
    }
   },
   "source": [
    "tempDataFrame.describe()"
   ],
   "execution_count": 36,
   "outputs": [
    {
     "output_type": "execute_result",
     "data": {
      "text/html": [
       "<div>\n",
       "<style scoped>\n",
       "    .dataframe tbody tr th:only-of-type {\n",
       "        vertical-align: middle;\n",
       "    }\n",
       "\n",
       "    .dataframe tbody tr th {\n",
       "        vertical-align: top;\n",
       "    }\n",
       "\n",
       "    .dataframe thead th {\n",
       "        text-align: right;\n",
       "    }\n",
       "</style>\n",
       "<table border=\"1\" class=\"dataframe\">\n",
       "  <thead>\n",
       "    <tr style=\"text-align: right;\">\n",
       "      <th></th>\n",
       "      <th>January</th>\n",
       "      <th>February</th>\n",
       "      <th>March</th>\n",
       "      <th>April</th>\n",
       "      <th>May</th>\n",
       "      <th>June</th>\n",
       "      <th>July</th>\n",
       "      <th>August</th>\n",
       "      <th>September</th>\n",
       "      <th>October</th>\n",
       "      <th>November</th>\n",
       "      <th>December</th>\n",
       "      <th>Annual</th>\n",
       "      <th>Amplitude</th>\n",
       "      <th>Latitude</th>\n",
       "      <th>Longitude</th>\n",
       "    </tr>\n",
       "  </thead>\n",
       "  <tbody>\n",
       "    <tr>\n",
       "      <th>count</th>\n",
       "      <td>35.000000</td>\n",
       "      <td>35.000000</td>\n",
       "      <td>35.000000</td>\n",
       "      <td>35.000000</td>\n",
       "      <td>35.000000</td>\n",
       "      <td>35.000000</td>\n",
       "      <td>35.000000</td>\n",
       "      <td>35.000000</td>\n",
       "      <td>35.000000</td>\n",
       "      <td>35.000000</td>\n",
       "      <td>35.000000</td>\n",
       "      <td>35.000000</td>\n",
       "      <td>35.000000</td>\n",
       "      <td>35.000000</td>\n",
       "      <td>35.000000</td>\n",
       "      <td>35.000000</td>\n",
       "    </tr>\n",
       "    <tr>\n",
       "      <th>mean</th>\n",
       "      <td>1.345714</td>\n",
       "      <td>2.217143</td>\n",
       "      <td>5.228571</td>\n",
       "      <td>9.282857</td>\n",
       "      <td>13.911429</td>\n",
       "      <td>17.414286</td>\n",
       "      <td>19.622857</td>\n",
       "      <td>18.980000</td>\n",
       "      <td>15.631429</td>\n",
       "      <td>11.002857</td>\n",
       "      <td>6.065714</td>\n",
       "      <td>2.880000</td>\n",
       "      <td>10.265714</td>\n",
       "      <td>18.317143</td>\n",
       "      <td>49.042857</td>\n",
       "      <td>13.011429</td>\n",
       "    </tr>\n",
       "    <tr>\n",
       "      <th>std</th>\n",
       "      <td>5.502157</td>\n",
       "      <td>5.498956</td>\n",
       "      <td>4.863040</td>\n",
       "      <td>3.806456</td>\n",
       "      <td>3.273582</td>\n",
       "      <td>3.320271</td>\n",
       "      <td>3.574673</td>\n",
       "      <td>3.727939</td>\n",
       "      <td>4.109728</td>\n",
       "      <td>4.323226</td>\n",
       "      <td>4.566820</td>\n",
       "      <td>4.967411</td>\n",
       "      <td>3.963061</td>\n",
       "      <td>4.505649</td>\n",
       "      <td>7.103284</td>\n",
       "      <td>9.697021</td>\n",
       "    </tr>\n",
       "    <tr>\n",
       "      <th>min</th>\n",
       "      <td>-9.300000</td>\n",
       "      <td>-7.900000</td>\n",
       "      <td>-3.700000</td>\n",
       "      <td>2.900000</td>\n",
       "      <td>6.500000</td>\n",
       "      <td>9.300000</td>\n",
       "      <td>11.100000</td>\n",
       "      <td>10.600000</td>\n",
       "      <td>7.900000</td>\n",
       "      <td>4.500000</td>\n",
       "      <td>-1.100000</td>\n",
       "      <td>-6.000000</td>\n",
       "      <td>4.500000</td>\n",
       "      <td>10.200000</td>\n",
       "      <td>37.200000</td>\n",
       "      <td>0.000000</td>\n",
       "    </tr>\n",
       "    <tr>\n",
       "      <th>25%</th>\n",
       "      <td>-1.550000</td>\n",
       "      <td>-0.150000</td>\n",
       "      <td>1.600000</td>\n",
       "      <td>7.250000</td>\n",
       "      <td>12.150000</td>\n",
       "      <td>15.400000</td>\n",
       "      <td>17.300000</td>\n",
       "      <td>16.650000</td>\n",
       "      <td>13.000000</td>\n",
       "      <td>8.650000</td>\n",
       "      <td>3.200000</td>\n",
       "      <td>0.250000</td>\n",
       "      <td>7.750000</td>\n",
       "      <td>14.900000</td>\n",
       "      <td>43.900000</td>\n",
       "      <td>5.050000</td>\n",
       "    </tr>\n",
       "    <tr>\n",
       "      <th>50%</th>\n",
       "      <td>0.200000</td>\n",
       "      <td>1.900000</td>\n",
       "      <td>5.400000</td>\n",
       "      <td>8.900000</td>\n",
       "      <td>13.800000</td>\n",
       "      <td>16.900000</td>\n",
       "      <td>18.900000</td>\n",
       "      <td>18.300000</td>\n",
       "      <td>14.800000</td>\n",
       "      <td>10.200000</td>\n",
       "      <td>5.100000</td>\n",
       "      <td>1.700000</td>\n",
       "      <td>9.700000</td>\n",
       "      <td>18.500000</td>\n",
       "      <td>50.000000</td>\n",
       "      <td>10.500000</td>\n",
       "    </tr>\n",
       "    <tr>\n",
       "      <th>75%</th>\n",
       "      <td>4.900000</td>\n",
       "      <td>5.800000</td>\n",
       "      <td>8.500000</td>\n",
       "      <td>12.050000</td>\n",
       "      <td>16.350000</td>\n",
       "      <td>19.800000</td>\n",
       "      <td>21.750000</td>\n",
       "      <td>21.600000</td>\n",
       "      <td>18.250000</td>\n",
       "      <td>13.300000</td>\n",
       "      <td>7.900000</td>\n",
       "      <td>5.400000</td>\n",
       "      <td>12.650000</td>\n",
       "      <td>21.450000</td>\n",
       "      <td>53.350000</td>\n",
       "      <td>19.300000</td>\n",
       "    </tr>\n",
       "    <tr>\n",
       "      <th>max</th>\n",
       "      <td>10.700000</td>\n",
       "      <td>11.800000</td>\n",
       "      <td>14.100000</td>\n",
       "      <td>16.900000</td>\n",
       "      <td>20.900000</td>\n",
       "      <td>24.500000</td>\n",
       "      <td>27.400000</td>\n",
       "      <td>27.200000</td>\n",
       "      <td>24.300000</td>\n",
       "      <td>19.400000</td>\n",
       "      <td>14.900000</td>\n",
       "      <td>12.000000</td>\n",
       "      <td>18.200000</td>\n",
       "      <td>27.600000</td>\n",
       "      <td>64.100000</td>\n",
       "      <td>37.600000</td>\n",
       "    </tr>\n",
       "  </tbody>\n",
       "</table>\n",
       "</div>"
      ],
      "text/plain": [
       "         January   February      March  ...  Amplitude   Latitude  Longitude\n",
       "count  35.000000  35.000000  35.000000  ...  35.000000  35.000000  35.000000\n",
       "mean    1.345714   2.217143   5.228571  ...  18.317143  49.042857  13.011429\n",
       "std     5.502157   5.498956   4.863040  ...   4.505649   7.103284   9.697021\n",
       "min    -9.300000  -7.900000  -3.700000  ...  10.200000  37.200000   0.000000\n",
       "25%    -1.550000  -0.150000   1.600000  ...  14.900000  43.900000   5.050000\n",
       "50%     0.200000   1.900000   5.400000  ...  18.500000  50.000000  10.500000\n",
       "75%     4.900000   5.800000   8.500000  ...  21.450000  53.350000  19.300000\n",
       "max    10.700000  11.800000  14.100000  ...  27.600000  64.100000  37.600000\n",
       "\n",
       "[8 rows x 16 columns]"
      ]
     },
     "metadata": {
      "tags": []
     },
     "execution_count": 36
    }
   ]
  },
  {
   "cell_type": "code",
   "metadata": {
    "id": "5RDpEja8IIpZ",
    "pycharm": {
     "name": "#%%\n"
    }
   },
   "source": [],
   "execution_count": null,
   "outputs": []
  },
  {
   "cell_type": "code",
   "metadata": {
    "colab": {
     "base_uri": "https://localhost:8080/"
    },
    "id": "vVozERdW-YOX",
    "outputId": "d48506b2-1946-4052-fbf8-0cd3e85adbee",
    "pycharm": {
     "name": "#%%\n"
    }
   },
   "source": [
    "temperatures = tempDataFrame.iloc[:,0:12].to_numpy()\n",
    "print(temperatures)"
   ],
   "execution_count": 10,
   "outputs": [
    {
     "output_type": "stream",
     "text": [
      "[[ 2.9  2.5  5.7  8.2 12.5 14.8 17.1 17.1 14.5 11.4  7.   4.4]\n",
      " [ 9.1  9.7 11.7 15.4 20.1 24.5 27.4 27.2 23.8 19.2 14.6 11. ]\n",
      " [-0.2  0.1  4.4  8.2 13.8 16.  18.3 18.  14.4 10.   4.2  1.2]\n",
      " [ 3.3  3.3  6.7  8.9 12.8 15.6 17.8 17.8 15.  11.1  6.7  4.4]\n",
      " [-1.1  0.8  5.5 11.6 17.  20.2 22.  21.3 16.9 11.3  5.1  0.7]\n",
      " [-0.4 -0.4  1.3  5.8 11.1 15.4 17.1 16.6 13.3  8.8  4.1  1.3]\n",
      " [ 4.8  5.   5.9  7.8 10.4 13.3 15.  14.6 12.7  9.7  6.7  5.4]\n",
      " [-5.8 -6.2 -2.7  3.1 10.2 14.  17.2 14.9  9.7  5.2  0.1 -2.3]\n",
      " [-5.9 -5.  -0.3  7.4 14.3 17.8 19.4 18.5 13.7  7.5  1.2 -3.6]\n",
      " [-3.7 -2.   1.9  7.9 13.2 16.9 18.4 17.6 13.7  8.6  2.6 -1.7]\n",
      " [10.5 11.3 12.8 14.5 16.7 19.4 21.5 21.9 20.4 17.4 13.7 11.1]\n",
      " [ 3.4  4.2  5.5  8.3 11.9 15.1 16.9 16.5 14.  10.2  6.3  4.4]\n",
      " [ 5.   6.6  9.4 12.2 16.  20.8 24.7 24.3 19.8 13.9  8.7  5.4]\n",
      " [-6.9 -6.2 -1.9  5.4 12.4 15.9 17.4 16.3 11.6  5.8  0.1 -4.2]\n",
      " [-9.3 -7.6 -2.   6.  13.  16.6 18.3 16.7 11.2  5.1 -1.1 -6. ]\n",
      " [-4.3 -3.8 -0.6  4.4 10.3 14.9 16.9 15.4 11.1  5.7  0.5 -2.9]\n",
      " [ 3.7  3.7  7.3  9.7 13.7 16.5 19.  18.7 16.1 12.5  7.3  5.2]\n",
      " [-1.3  0.2  3.6  8.8 14.3 17.6 19.3 18.7 14.9  9.4  3.8  0.3]\n",
      " [-0.3  0.1  0.8  2.9  6.5  9.3 11.1 10.6  7.9  4.5  1.7  0.2]\n",
      " [ 7.1  8.2 10.5 13.7 17.8 21.7 24.4 24.1 20.9 16.5 11.7  8.3]\n",
      " [-1.4  0.8  4.9  9.3 13.8 17.  18.9 18.7 15.2 10.5  5.1  0.8]\n",
      " [-1.7  0.2  4.3  9.7 14.3 17.7 20.  19.5 15.8 10.7  5.   0.6]\n",
      " [-3.5 -3.5 -1.3  3.5  9.2 14.6 17.2 16.  11.7  6.5  1.7 -1.6]\n",
      " [ 3.1  2.9  6.2  8.9 12.9 15.5 17.9 17.6 14.7 11.5  6.8  4.7]\n",
      " [ 9.1 10.3 11.8 14.1 17.4 21.2 24.2 24.1 21.7 17.5 13.1 10. ]\n",
      " [ 5.6  6.7  9.  11.9 15.  18.3 20.4 20.  17.6 13.5  8.5  6.1]\n",
      " [ 2.9  3.6  4.7  7.1  9.9 13.  14.7 14.3 12.1  8.7  5.3  3.7]\n",
      " [ 0.2  1.8  5.4  9.7 14.3 17.5 19.  18.3 14.8  9.8  4.9  1.7]\n",
      " [ 0.1  1.9  5.1  9.4 13.8 17.3 19.4 18.5 15.   9.8  4.9  1.4]\n",
      " [ 8.7  8.7 11.4 13.8 17.5 21.  24.5 24.6 21.8 17.8 12.2 10. ]\n",
      " [ 1.1  3.6  8.  12.6 17.3 21.3 23.8 22.8 18.9 13.1  6.9  2.6]\n",
      " [10.5 11.5 13.3 16.9 20.9 23.8 24.5 22.3 22.3 18.4 14.9 12. ]\n",
      " [10.7 11.8 14.1 16.1 19.7 23.4 26.7 26.7 24.3 19.4 14.5 11.2]\n",
      " [-8.2 -7.9 -3.7  3.2 10.  15.4 18.4 16.9 11.5  5.2 -0.4 -5.3]\n",
      " [-0.7  0.7  4.3  8.5 12.9 16.2 18.  17.2 14.1  8.9  3.9  0.3]]\n"
     ],
     "name": "stdout"
    }
   ]
  },
  {
   "cell_type": "code",
   "metadata": {
    "colab": {
     "base_uri": "https://localhost:8080/",
     "height": 1000
    },
    "id": "S8hAVjnC-Srm",
    "outputId": "ce5916aa-1471-43f8-d53c-e7ee182d43db",
    "pycharm": {
     "name": "#%%\n"
    }
   },
   "source": [
    "kmean_model = KMeans(n_clusters=6, n_init=10, max_iter=10, init=\"random\")\n",
    "%time km = kmean_model.fit_predict(temperatures)\n",
    "print (\"intertie intra-classes : \", kmean_model.inertia_)\n",
    "\n",
    "pca = PCA(n_components=3).fit(temperatures)\n",
    "data = pca.transform(temperatures)\n",
    "centroids = pca.transform(kmean_model.cluster_centers_)\n",
    "\n",
    "plt.figure(figsize=(17,14))\n",
    "axis = Axes3D(plt.figure())\n",
    "scatter = axis.scatter(data[:, 0], data[:, 1],data[:, 2],c = kmean_model.labels_)\n",
    "axis.scatter(centroids[:, 0], centroids[:, 1], centroids[:,2], marker='*', s=300, c='#000000')\n",
    "plt.colorbar(scatter)\n",
    "plt.show()\n",
    "\n",
    "plt.figure(figsize=(17,14))\n",
    "plt.style.use(\"classic\") #cf. https://matplotlib.org/stable/gallery/style_sheets/style_sheets_reference.html\n",
    "scatter= plt.scatter(data[:, 0], data[:, 1],c = kmean_model.labels_, s=100)\n",
    "plt.scatter(centroids[:, 0], centroids[:, 1], marker='*', s=300)\n",
    "for i, nom in enumerate(tempDataFrame.index):\n",
    "    plt.text(data[i, 0]+0.3, data[i, 1]+0.3, nom)\n",
    "plt.colorbar(scatter)\n",
    "plt.show()\n"
   ],
   "execution_count": 11,
   "outputs": [
    {
     "output_type": "stream",
     "text": [
      "CPU times: user 17.7 ms, sys: 0 ns, total: 17.7 ms\n",
      "Wall time: 17.8 ms\n",
      "intertie intra-classes :  613.3122380952382\n"
     ],
     "name": "stdout"
    },
    {
     "output_type": "display_data",
     "data": {
      "text/plain": [
       "<Figure size 1360x1120 with 0 Axes>"
      ]
     },
     "metadata": {
      "tags": []
     }
    },
    {
     "output_type": "display_data",
     "data": {
      "image/png": "[encoded data removed]",
      "text/plain": [
       "<Figure size 640x480 with 2 Axes>"
      ]
     },
     "metadata": {
      "tags": []
     }
    },
    {
     "output_type": "display_data",
     "data": {
      "image/png": "[encoded data removed]",
      "text/plain": [
       "<Figure size 1360x1120 with 2 Axes>"
      ]
     },
     "metadata": {
      "tags": []
     }
    }
   ]
  },
  {
   "cell_type": "code",
   "metadata": {
    "colab": {
     "base_uri": "https://localhost:8080/",
     "height": 1000
    },
    "id": "oklUlpJq-rfe",
    "outputId": "6ba356fb-efab-4538-f183-799dd8b82e73",
    "pycharm": {
     "name": "#%%\n"
    }
   },
   "source": [
    "fig = px.scatter(tempDataFrame, x=tempDataFrame.index, y='January')\n",
    "fig.show()\n",
    "\n",
    "fig = px.scatter(tempDataFrame, x=\"March\", y='Amplitude', color='Area', hover_name=tempDataFrame.index)\n",
    "fig.show()"
   ],
   "execution_count": 76,
   "outputs": [
    {
     "output_type": "display_data",
     "data": {
      "text/html": [
       "<html>\n",
       "<head><meta charset=\"utf-8\" /></head>\n",
       "<body>\n",
       "    <div>\n",
       "            <script src=\"https://cdnjs.cloudflare.com/ajax/libs/mathjax/2.7.5/MathJax.js?config=TeX-AMS-MML_SVG\"></script><script type=\"text/javascript\">if (window.MathJax) {MathJax.Hub.Config({SVG: {font: \"STIX-Web\"}});}</script>\n",
       "                <script type=\"text/javascript\">window.PlotlyConfig = {MathJaxConfig: 'local'};</script>\n",
       "        <script src=\"https://cdn.plot.ly/plotly-latest.min.js\"></script>    \n",
       "            <div id=\"f252c396-9365-45d3-8369-01ab83f20be7\" class=\"plotly-graph-div\" style=\"height:525px; width:100%;\"></div>\n",
       "            <script type=\"text/javascript\">\n",
       "                \n",
       "                    window.PLOTLYENV=window.PLOTLYENV || {};\n",
       "                    \n",
       "                if (document.getElementById(\"f252c396-9365-45d3-8369-01ab83f20be7\")) {\n",
       "                    Plotly.newPlot(\n",
       "                        'f252c396-9365-45d3-8369-01ab83f20be7',\n",
       "                        [{\"hoverlabel\": {\"namelength\": 0}, \"hovertemplate\": \"x=%{x}<br>January=%{y}\", \"legendgroup\": \"\", \"marker\": {\"color\": \"#636efa\", \"symbol\": \"circle\"}, \"mode\": \"markers\", \"name\": \"\", \"showlegend\": false, \"type\": \"scatter\", \"x\": [\"Amsterdam \", \"Athens \", \"Berlin \", \"Brussels\", \"Budapest \", \"Copenhagen \", \"Dublin \", \"Elsinki\", \"Kiev \", \"Krakow \", \"Lisbon \", \"London \", \"Madrid \", \"Minsk \", \"Moscow\", \"Oslo \", \"Paris \", \"Prague \", \"Reykjavik \", \"Rome \", \"Sarajevo \", \"Sofia \", \"Stockholm \", \"Antwerp \", \"Barcelona \", \"Bordeaux \", \"Edinburgh \", \"Frankfurt \", \"Geneva \", \"Genoa \", \"Milan \", \"Palermo \", \"Seville \", \"St. Petersburg \", \"Zurich \"], \"xaxis\": \"x\", \"y\": [2.9, 9.1, -0.2, 3.3, -1.1, -0.4, 4.8, -5.8, -5.9, -3.7, 10.5, 3.4, 5.0, -6.9, -9.3, -4.3, 3.7, -1.3, -0.3, 7.1, -1.4, -1.7, -3.5, 3.1, 9.1, 5.6, 2.9, 0.2, 0.1, 8.7, 1.1, 10.5, 10.7, -8.2, -0.7], \"yaxis\": \"y\"}],\n",
       "                        {\"legend\": {\"tracegroupgap\": 0}, \"margin\": {\"t\": 60}, \"template\": {\"data\": {\"bar\": [{\"error_x\": {\"color\": \"#2a3f5f\"}, \"error_y\": {\"color\": \"#2a3f5f\"}, \"marker\": {\"line\": {\"color\": \"#E5ECF6\", \"width\": 0.5}}, \"type\": \"bar\"}], \"barpolar\": [{\"marker\": {\"line\": {\"color\": \"#E5ECF6\", \"width\": 0.5}}, \"type\": \"barpolar\"}], \"carpet\": [{\"aaxis\": {\"endlinecolor\": \"#2a3f5f\", \"gridcolor\": \"white\", \"linecolor\": \"white\", \"minorgridcolor\": \"white\", \"startlinecolor\": \"#2a3f5f\"}, \"baxis\": {\"endlinecolor\": \"#2a3f5f\", \"gridcolor\": \"white\", \"linecolor\": \"white\", \"minorgridcolor\": \"white\", \"startlinecolor\": \"#2a3f5f\"}, \"type\": \"carpet\"}], \"choropleth\": [{\"colorbar\": {\"outlinewidth\": 0, \"ticks\": \"\"}, \"type\": \"choropleth\"}], \"contour\": [{\"colorbar\": {\"outlinewidth\": 0, \"ticks\": \"\"}, \"colorscale\": [[0.0, \"#0d0887\"], [0.1111111111111111, \"#46039f\"], [0.2222222222222222, \"#7201a8\"], [0.3333333333333333, \"#9c179e\"], [0.4444444444444444, \"#bd3786\"], [0.5555555555555556, \"#d8576b\"], [0.6666666666666666, \"#ed7953\"], [0.7777777777777778, \"#fb9f3a\"], [0.8888888888888888, \"#fdca26\"], [1.0, \"#f0f921\"]], \"type\": \"contour\"}], \"contourcarpet\": [{\"colorbar\": {\"outlinewidth\": 0, \"ticks\": \"\"}, \"type\": \"contourcarpet\"}], \"heatmap\": [{\"colorbar\": {\"outlinewidth\": 0, \"ticks\": \"\"}, \"colorscale\": [[0.0, \"#0d0887\"], [0.1111111111111111, \"#46039f\"], [0.2222222222222222, \"#7201a8\"], [0.3333333333333333, \"#9c179e\"], [0.4444444444444444, \"#bd3786\"], [0.5555555555555556, \"#d8576b\"], [0.6666666666666666, \"#ed7953\"], [0.7777777777777778, \"#fb9f3a\"], [0.8888888888888888, \"#fdca26\"], [1.0, \"#f0f921\"]], \"type\": \"heatmap\"}], \"heatmapgl\": [{\"colorbar\": {\"outlinewidth\": 0, \"ticks\": \"\"}, \"colorscale\": [[0.0, \"#0d0887\"], [0.1111111111111111, \"#46039f\"], [0.2222222222222222, \"#7201a8\"], [0.3333333333333333, \"#9c179e\"], [0.4444444444444444, \"#bd3786\"], [0.5555555555555556, \"#d8576b\"], [0.6666666666666666, \"#ed7953\"], [0.7777777777777778, \"#fb9f3a\"], [0.8888888888888888, \"#fdca26\"], [1.0, \"#f0f921\"]], \"type\": \"heatmapgl\"}], \"histogram\": [{\"marker\": {\"colorbar\": {\"outlinewidth\": 0, \"ticks\": \"\"}}, \"type\": \"histogram\"}], \"histogram2d\": [{\"colorbar\": {\"outlinewidth\": 0, \"ticks\": \"\"}, \"colorscale\": [[0.0, \"#0d0887\"], [0.1111111111111111, \"#46039f\"], [0.2222222222222222, \"#7201a8\"], [0.3333333333333333, \"#9c179e\"], [0.4444444444444444, \"#bd3786\"], [0.5555555555555556, \"#d8576b\"], [0.6666666666666666, \"#ed7953\"], [0.7777777777777778, \"#fb9f3a\"], [0.8888888888888888, \"#fdca26\"], [1.0, \"#f0f921\"]], \"type\": \"histogram2d\"}], \"histogram2dcontour\": [{\"colorbar\": {\"outlinewidth\": 0, \"ticks\": \"\"}, \"colorscale\": [[0.0, \"#0d0887\"], [0.1111111111111111, \"#46039f\"], [0.2222222222222222, \"#7201a8\"], [0.3333333333333333, \"#9c179e\"], [0.4444444444444444, \"#bd3786\"], [0.5555555555555556, \"#d8576b\"], [0.6666666666666666, \"#ed7953\"], [0.7777777777777778, \"#fb9f3a\"], [0.8888888888888888, \"#fdca26\"], [1.0, \"#f0f921\"]], \"type\": \"histogram2dcontour\"}], \"mesh3d\": [{\"colorbar\": {\"outlinewidth\": 0, \"ticks\": \"\"}, \"type\": \"mesh3d\"}], \"parcoords\": [{\"line\": {\"colorbar\": {\"outlinewidth\": 0, \"ticks\": \"\"}}, \"type\": \"parcoords\"}], \"pie\": [{\"automargin\": true, \"type\": \"pie\"}], \"scatter\": [{\"marker\": {\"colorbar\": {\"outlinewidth\": 0, \"ticks\": \"\"}}, \"type\": \"scatter\"}], \"scatter3d\": [{\"line\": {\"colorbar\": {\"outlinewidth\": 0, \"ticks\": \"\"}}, \"marker\": {\"colorbar\": {\"outlinewidth\": 0, \"ticks\": \"\"}}, \"type\": \"scatter3d\"}], \"scattercarpet\": [{\"marker\": {\"colorbar\": {\"outlinewidth\": 0, \"ticks\": \"\"}}, \"type\": \"scattercarpet\"}], \"scattergeo\": [{\"marker\": {\"colorbar\": {\"outlinewidth\": 0, \"ticks\": \"\"}}, \"type\": \"scattergeo\"}], \"scattergl\": [{\"marker\": {\"colorbar\": {\"outlinewidth\": 0, \"ticks\": \"\"}}, \"type\": \"scattergl\"}], \"scattermapbox\": [{\"marker\": {\"colorbar\": {\"outlinewidth\": 0, \"ticks\": \"\"}}, \"type\": \"scattermapbox\"}], \"scatterpolar\": [{\"marker\": {\"colorbar\": {\"outlinewidth\": 0, \"ticks\": \"\"}}, \"type\": \"scatterpolar\"}], \"scatterpolargl\": [{\"marker\": {\"colorbar\": {\"outlinewidth\": 0, \"ticks\": \"\"}}, \"type\": \"scatterpolargl\"}], \"scatterternary\": [{\"marker\": {\"colorbar\": {\"outlinewidth\": 0, \"ticks\": \"\"}}, \"type\": \"scatterternary\"}], \"surface\": [{\"colorbar\": {\"outlinewidth\": 0, \"ticks\": \"\"}, \"colorscale\": [[0.0, \"#0d0887\"], [0.1111111111111111, \"#46039f\"], [0.2222222222222222, \"#7201a8\"], [0.3333333333333333, \"#9c179e\"], [0.4444444444444444, \"#bd3786\"], [0.5555555555555556, \"#d8576b\"], [0.6666666666666666, \"#ed7953\"], [0.7777777777777778, \"#fb9f3a\"], [0.8888888888888888, \"#fdca26\"], [1.0, \"#f0f921\"]], \"type\": \"surface\"}], \"table\": [{\"cells\": {\"fill\": {\"color\": \"#EBF0F8\"}, \"line\": {\"color\": \"white\"}}, \"header\": {\"fill\": {\"color\": \"#C8D4E3\"}, \"line\": {\"color\": \"white\"}}, \"type\": \"table\"}]}, \"layout\": {\"annotationdefaults\": {\"arrowcolor\": \"#2a3f5f\", \"arrowhead\": 0, \"arrowwidth\": 1}, \"coloraxis\": {\"colorbar\": {\"outlinewidth\": 0, \"ticks\": \"\"}}, \"colorscale\": {\"diverging\": [[0, \"#8e0152\"], [0.1, \"#c51b7d\"], [0.2, \"#de77ae\"], [0.3, \"#f1b6da\"], [0.4, \"#fde0ef\"], [0.5, \"#f7f7f7\"], [0.6, \"#e6f5d0\"], [0.7, \"#b8e186\"], [0.8, \"#7fbc41\"], [0.9, \"#4d9221\"], [1, \"#276419\"]], \"sequential\": [[0.0, \"#0d0887\"], [0.1111111111111111, \"#46039f\"], [0.2222222222222222, \"#7201a8\"], [0.3333333333333333, \"#9c179e\"], [0.4444444444444444, \"#bd3786\"], [0.5555555555555556, \"#d8576b\"], [0.6666666666666666, \"#ed7953\"], [0.7777777777777778, \"#fb9f3a\"], [0.8888888888888888, \"#fdca26\"], [1.0, \"#f0f921\"]], \"sequentialminus\": [[0.0, \"#0d0887\"], [0.1111111111111111, \"#46039f\"], [0.2222222222222222, \"#7201a8\"], [0.3333333333333333, \"#9c179e\"], [0.4444444444444444, \"#bd3786\"], [0.5555555555555556, \"#d8576b\"], [0.6666666666666666, \"#ed7953\"], [0.7777777777777778, \"#fb9f3a\"], [0.8888888888888888, \"#fdca26\"], [1.0, \"#f0f921\"]]}, \"colorway\": [\"#636efa\", \"#EF553B\", \"#00cc96\", \"#ab63fa\", \"#FFA15A\", \"#19d3f3\", \"#FF6692\", \"#B6E880\", \"#FF97FF\", \"#FECB52\"], \"font\": {\"color\": \"#2a3f5f\"}, \"geo\": {\"bgcolor\": \"white\", \"lakecolor\": \"white\", \"landcolor\": \"#E5ECF6\", \"showlakes\": true, \"showland\": true, \"subunitcolor\": \"white\"}, \"hoverlabel\": {\"align\": \"left\"}, \"hovermode\": \"closest\", \"mapbox\": {\"style\": \"light\"}, \"paper_bgcolor\": \"white\", \"plot_bgcolor\": \"#E5ECF6\", \"polar\": {\"angularaxis\": {\"gridcolor\": \"white\", \"linecolor\": \"white\", \"ticks\": \"\"}, \"bgcolor\": \"#E5ECF6\", \"radialaxis\": {\"gridcolor\": \"white\", \"linecolor\": \"white\", \"ticks\": \"\"}}, \"scene\": {\"xaxis\": {\"backgroundcolor\": \"#E5ECF6\", \"gridcolor\": \"white\", \"gridwidth\": 2, \"linecolor\": \"white\", \"showbackground\": true, \"ticks\": \"\", \"zerolinecolor\": \"white\"}, \"yaxis\": {\"backgroundcolor\": \"#E5ECF6\", \"gridcolor\": \"white\", \"gridwidth\": 2, \"linecolor\": \"white\", \"showbackground\": true, \"ticks\": \"\", \"zerolinecolor\": \"white\"}, \"zaxis\": {\"backgroundcolor\": \"#E5ECF6\", \"gridcolor\": \"white\", \"gridwidth\": 2, \"linecolor\": \"white\", \"showbackground\": true, \"ticks\": \"\", \"zerolinecolor\": \"white\"}}, \"shapedefaults\": {\"line\": {\"color\": \"#2a3f5f\"}}, \"ternary\": {\"aaxis\": {\"gridcolor\": \"white\", \"linecolor\": \"white\", \"ticks\": \"\"}, \"baxis\": {\"gridcolor\": \"white\", \"linecolor\": \"white\", \"ticks\": \"\"}, \"bgcolor\": \"#E5ECF6\", \"caxis\": {\"gridcolor\": \"white\", \"linecolor\": \"white\", \"ticks\": \"\"}}, \"title\": {\"x\": 0.05}, \"xaxis\": {\"automargin\": true, \"gridcolor\": \"white\", \"linecolor\": \"white\", \"ticks\": \"\", \"title\": {\"standoff\": 15}, \"zerolinecolor\": \"white\", \"zerolinewidth\": 2}, \"yaxis\": {\"automargin\": true, \"gridcolor\": \"white\", \"linecolor\": \"white\", \"ticks\": \"\", \"title\": {\"standoff\": 15}, \"zerolinecolor\": \"white\", \"zerolinewidth\": 2}}}, \"xaxis\": {\"anchor\": \"y\", \"domain\": [0.0, 1.0], \"title\": {\"text\": \"x\"}}, \"yaxis\": {\"anchor\": \"x\", \"domain\": [0.0, 1.0], \"title\": {\"text\": \"January\"}}},\n",
       "                        {\"responsive\": true}\n",
       "                    ).then(function(){\n",
       "                            \n",
       "var gd = document.getElementById('f252c396-9365-45d3-8369-01ab83f20be7');\n",
       "var x = new MutationObserver(function (mutations, observer) {{\n",
       "        var display = window.getComputedStyle(gd).display;\n",
       "        if (!display || display === 'none') {{\n",
       "            console.log([gd, 'removed!']);\n",
       "            Plotly.purge(gd);\n",
       "            observer.disconnect();\n",
       "        }}\n",
       "}});\n",
       "\n",
       "// Listen for the removal of the full notebook cells\n",
       "var notebookContainer = gd.closest('#notebook-container');\n",
       "if (notebookContainer) {{\n",
       "    x.observe(notebookContainer, {childList: true});\n",
       "}}\n",
       "\n",
       "// Listen for the clearing of the current output cell\n",
       "var outputEl = gd.closest('.output');\n",
       "if (outputEl) {{\n",
       "    x.observe(outputEl, {childList: true});\n",
       "}}\n",
       "\n",
       "                        })\n",
       "                };\n",
       "                \n",
       "            </script>\n",
       "        </div>\n",
       "</body>\n",
       "</html>"
      ]
     },
     "metadata": {
      "tags": []
     }
    },
    {
     "output_type": "display_data",
     "data": {
      "text/html": [
       "<html>\n",
       "<head><meta charset=\"utf-8\" /></head>\n",
       "<body>\n",
       "    <div>\n",
       "            <script src=\"https://cdnjs.cloudflare.com/ajax/libs/mathjax/2.7.5/MathJax.js?config=TeX-AMS-MML_SVG\"></script><script type=\"text/javascript\">if (window.MathJax) {MathJax.Hub.Config({SVG: {font: \"STIX-Web\"}});}</script>\n",
       "                <script type=\"text/javascript\">window.PlotlyConfig = {MathJaxConfig: 'local'};</script>\n",
       "        <script src=\"https://cdn.plot.ly/plotly-latest.min.js\"></script>    \n",
       "            <div id=\"5e31d5ba-4b9c-418b-9056-ace98c2b0708\" class=\"plotly-graph-div\" style=\"height:525px; width:100%;\"></div>\n",
       "            <script type=\"text/javascript\">\n",
       "                \n",
       "                    window.PLOTLYENV=window.PLOTLYENV || {};\n",
       "                    \n",
       "                if (document.getElementById(\"5e31d5ba-4b9c-418b-9056-ace98c2b0708\")) {\n",
       "                    Plotly.newPlot(\n",
       "                        '5e31d5ba-4b9c-418b-9056-ace98c2b0708',\n",
       "                        [{\"hoverlabel\": {\"namelength\": 0}, \"hovertemplate\": \"<b>%{hovertext}</b><br><br>Area=West<br>March=%{x}<br>Amplitude=%{y}\", \"hovertext\": [\"Amsterdam \", \"Berlin \", \"Brussels\", \"Paris \", \"Antwerp \", \"Bordeaux \", \"Frankfurt \", \"Geneva \", \"Zurich \"], \"legendgroup\": \"Area=West\", \"marker\": {\"color\": \"#636efa\", \"symbol\": \"circle\"}, \"mode\": \"markers\", \"name\": \"Area=West\", \"showlegend\": true, \"type\": \"scatter\", \"x\": [5.7, 4.4, 6.7, 7.3, 6.2, 9.0, 5.4, 5.1, 4.3], \"xaxis\": \"x\", \"y\": [14.6, 18.5, 14.4, 15.3, 15.0, 14.8, 18.8, 19.3, 18.7], \"yaxis\": \"y\"}, {\"hoverlabel\": {\"namelength\": 0}, \"hovertemplate\": \"<b>%{hovertext}</b><br><br>Area=South<br>March=%{x}<br>Amplitude=%{y}\", \"hovertext\": [\"Athens \", \"Lisbon \", \"Madrid \", \"Rome \", \"Sarajevo \", \"Barcelona \", \"Genoa \", \"Milan \", \"Palermo \", \"Seville \"], \"legendgroup\": \"Area=South\", \"marker\": {\"color\": \"#EF553B\", \"symbol\": \"circle\"}, \"mode\": \"markers\", \"name\": \"Area=South\", \"showlegend\": true, \"type\": \"scatter\", \"x\": [11.7, 12.8, 9.4, 10.5, 4.9, 11.8, 11.4, 8.0, 13.3, 14.1], \"xaxis\": \"x\", \"y\": [18.3, 11.4, 19.7, 17.3, 20.3, 15.1, 15.9, 22.7, 14.0, 16.0], \"yaxis\": \"y\"}, {\"hoverlabel\": {\"namelength\": 0}, \"hovertemplate\": \"<b>%{hovertext}</b><br><br>Area=East<br>March=%{x}<br>Amplitude=%{y}\", \"hovertext\": [\"Budapest \", \"Kiev \", \"Krakow \", \"Minsk \", \"Moscow\", \"Prague \", \"Sofia \", \"St. Petersburg \"], \"legendgroup\": \"Area=East\", \"marker\": {\"color\": \"#00cc96\", \"symbol\": \"circle\"}, \"mode\": \"markers\", \"name\": \"Area=East\", \"showlegend\": true, \"type\": \"scatter\", \"x\": [5.5, -0.3, 1.9, -1.9, -2.0, 3.6, 4.3, -3.7], \"xaxis\": \"x\", \"y\": [23.1, 25.3, 22.1, 24.3, 27.6, 20.6, 21.7, 26.6], \"yaxis\": \"y\"}, {\"hoverlabel\": {\"namelength\": 0}, \"hovertemplate\": \"<b>%{hovertext}</b><br><br>Area=North<br>March=%{x}<br>Amplitude=%{y}\", \"hovertext\": [\"Copenhagen \", \"Dublin \", \"Elsinki\", \"London \", \"Oslo \", \"Reykjavik \", \"Stockholm \", \"Edinburgh \"], \"legendgroup\": \"Area=North\", \"marker\": {\"color\": \"#ab63fa\", \"symbol\": \"circle\"}, \"mode\": \"markers\", \"name\": \"Area=North\", \"showlegend\": true, \"type\": \"scatter\", \"x\": [1.3, 5.9, -2.7, 5.5, -0.6, 0.8, -1.3, 4.7], \"xaxis\": \"x\", \"y\": [17.5, 10.2, 23.4, 13.5, 21.2, 11.4, 20.7, 11.8], \"yaxis\": \"y\"}],\n",
       "                        {\"legend\": {\"tracegroupgap\": 0}, \"margin\": {\"t\": 60}, \"template\": {\"data\": {\"bar\": [{\"error_x\": {\"color\": \"#2a3f5f\"}, \"error_y\": {\"color\": \"#2a3f5f\"}, \"marker\": {\"line\": {\"color\": \"#E5ECF6\", \"width\": 0.5}}, \"type\": \"bar\"}], \"barpolar\": [{\"marker\": {\"line\": {\"color\": \"#E5ECF6\", \"width\": 0.5}}, \"type\": \"barpolar\"}], \"carpet\": [{\"aaxis\": {\"endlinecolor\": \"#2a3f5f\", \"gridcolor\": \"white\", \"linecolor\": \"white\", \"minorgridcolor\": \"white\", \"startlinecolor\": \"#2a3f5f\"}, \"baxis\": {\"endlinecolor\": \"#2a3f5f\", \"gridcolor\": \"white\", \"linecolor\": \"white\", \"minorgridcolor\": \"white\", \"startlinecolor\": \"#2a3f5f\"}, \"type\": \"carpet\"}], \"choropleth\": [{\"colorbar\": {\"outlinewidth\": 0, \"ticks\": \"\"}, \"type\": \"choropleth\"}], \"contour\": [{\"colorbar\": {\"outlinewidth\": 0, \"ticks\": \"\"}, \"colorscale\": [[0.0, \"#0d0887\"], [0.1111111111111111, \"#46039f\"], [0.2222222222222222, \"#7201a8\"], [0.3333333333333333, \"#9c179e\"], [0.4444444444444444, \"#bd3786\"], [0.5555555555555556, \"#d8576b\"], [0.6666666666666666, \"#ed7953\"], [0.7777777777777778, \"#fb9f3a\"], [0.8888888888888888, \"#fdca26\"], [1.0, \"#f0f921\"]], \"type\": \"contour\"}], \"contourcarpet\": [{\"colorbar\": {\"outlinewidth\": 0, \"ticks\": \"\"}, \"type\": \"contourcarpet\"}], \"heatmap\": [{\"colorbar\": {\"outlinewidth\": 0, \"ticks\": \"\"}, \"colorscale\": [[0.0, \"#0d0887\"], [0.1111111111111111, \"#46039f\"], [0.2222222222222222, \"#7201a8\"], [0.3333333333333333, \"#9c179e\"], [0.4444444444444444, \"#bd3786\"], [0.5555555555555556, \"#d8576b\"], [0.6666666666666666, \"#ed7953\"], [0.7777777777777778, \"#fb9f3a\"], [0.8888888888888888, \"#fdca26\"], [1.0, \"#f0f921\"]], \"type\": \"heatmap\"}], \"heatmapgl\": [{\"colorbar\": {\"outlinewidth\": 0, \"ticks\": \"\"}, \"colorscale\": [[0.0, \"#0d0887\"], [0.1111111111111111, \"#46039f\"], [0.2222222222222222, \"#7201a8\"], [0.3333333333333333, \"#9c179e\"], [0.4444444444444444, \"#bd3786\"], [0.5555555555555556, \"#d8576b\"], [0.6666666666666666, \"#ed7953\"], [0.7777777777777778, \"#fb9f3a\"], [0.8888888888888888, \"#fdca26\"], [1.0, \"#f0f921\"]], \"type\": \"heatmapgl\"}], \"histogram\": [{\"marker\": {\"colorbar\": {\"outlinewidth\": 0, \"ticks\": \"\"}}, \"type\": \"histogram\"}], \"histogram2d\": [{\"colorbar\": {\"outlinewidth\": 0, \"ticks\": \"\"}, \"colorscale\": [[0.0, \"#0d0887\"], [0.1111111111111111, \"#46039f\"], [0.2222222222222222, \"#7201a8\"], [0.3333333333333333, \"#9c179e\"], [0.4444444444444444, \"#bd3786\"], [0.5555555555555556, \"#d8576b\"], [0.6666666666666666, \"#ed7953\"], [0.7777777777777778, \"#fb9f3a\"], [0.8888888888888888, \"#fdca26\"], [1.0, \"#f0f921\"]], \"type\": \"histogram2d\"}], \"histogram2dcontour\": [{\"colorbar\": {\"outlinewidth\": 0, \"ticks\": \"\"}, \"colorscale\": [[0.0, \"#0d0887\"], [0.1111111111111111, \"#46039f\"], [0.2222222222222222, \"#7201a8\"], [0.3333333333333333, \"#9c179e\"], [0.4444444444444444, \"#bd3786\"], [0.5555555555555556, \"#d8576b\"], [0.6666666666666666, \"#ed7953\"], [0.7777777777777778, \"#fb9f3a\"], [0.8888888888888888, \"#fdca26\"], [1.0, \"#f0f921\"]], \"type\": \"histogram2dcontour\"}], \"mesh3d\": [{\"colorbar\": {\"outlinewidth\": 0, \"ticks\": \"\"}, \"type\": \"mesh3d\"}], \"parcoords\": [{\"line\": {\"colorbar\": {\"outlinewidth\": 0, \"ticks\": \"\"}}, \"type\": \"parcoords\"}], \"pie\": [{\"automargin\": true, \"type\": \"pie\"}], \"scatter\": [{\"marker\": {\"colorbar\": {\"outlinewidth\": 0, \"ticks\": \"\"}}, \"type\": \"scatter\"}], \"scatter3d\": [{\"line\": {\"colorbar\": {\"outlinewidth\": 0, \"ticks\": \"\"}}, \"marker\": {\"colorbar\": {\"outlinewidth\": 0, \"ticks\": \"\"}}, \"type\": \"scatter3d\"}], \"scattercarpet\": [{\"marker\": {\"colorbar\": {\"outlinewidth\": 0, \"ticks\": \"\"}}, \"type\": \"scattercarpet\"}], \"scattergeo\": [{\"marker\": {\"colorbar\": {\"outlinewidth\": 0, \"ticks\": \"\"}}, \"type\": \"scattergeo\"}], \"scattergl\": [{\"marker\": {\"colorbar\": {\"outlinewidth\": 0, \"ticks\": \"\"}}, \"type\": \"scattergl\"}], \"scattermapbox\": [{\"marker\": {\"colorbar\": {\"outlinewidth\": 0, \"ticks\": \"\"}}, \"type\": \"scattermapbox\"}], \"scatterpolar\": [{\"marker\": {\"colorbar\": {\"outlinewidth\": 0, \"ticks\": \"\"}}, \"type\": \"scatterpolar\"}], \"scatterpolargl\": [{\"marker\": {\"colorbar\": {\"outlinewidth\": 0, \"ticks\": \"\"}}, \"type\": \"scatterpolargl\"}], \"scatterternary\": [{\"marker\": {\"colorbar\": {\"outlinewidth\": 0, \"ticks\": \"\"}}, \"type\": \"scatterternary\"}], \"surface\": [{\"colorbar\": {\"outlinewidth\": 0, \"ticks\": \"\"}, \"colorscale\": [[0.0, \"#0d0887\"], [0.1111111111111111, \"#46039f\"], [0.2222222222222222, \"#7201a8\"], [0.3333333333333333, \"#9c179e\"], [0.4444444444444444, \"#bd3786\"], [0.5555555555555556, \"#d8576b\"], [0.6666666666666666, \"#ed7953\"], [0.7777777777777778, \"#fb9f3a\"], [0.8888888888888888, \"#fdca26\"], [1.0, \"#f0f921\"]], \"type\": \"surface\"}], \"table\": [{\"cells\": {\"fill\": {\"color\": \"#EBF0F8\"}, \"line\": {\"color\": \"white\"}}, \"header\": {\"fill\": {\"color\": \"#C8D4E3\"}, \"line\": {\"color\": \"white\"}}, \"type\": \"table\"}]}, \"layout\": {\"annotationdefaults\": {\"arrowcolor\": \"#2a3f5f\", \"arrowhead\": 0, \"arrowwidth\": 1}, \"coloraxis\": {\"colorbar\": {\"outlinewidth\": 0, \"ticks\": \"\"}}, \"colorscale\": {\"diverging\": [[0, \"#8e0152\"], [0.1, \"#c51b7d\"], [0.2, \"#de77ae\"], [0.3, \"#f1b6da\"], [0.4, \"#fde0ef\"], [0.5, \"#f7f7f7\"], [0.6, \"#e6f5d0\"], [0.7, \"#b8e186\"], [0.8, \"#7fbc41\"], [0.9, \"#4d9221\"], [1, \"#276419\"]], \"sequential\": [[0.0, \"#0d0887\"], [0.1111111111111111, \"#46039f\"], [0.2222222222222222, \"#7201a8\"], [0.3333333333333333, \"#9c179e\"], [0.4444444444444444, \"#bd3786\"], [0.5555555555555556, \"#d8576b\"], [0.6666666666666666, \"#ed7953\"], [0.7777777777777778, \"#fb9f3a\"], [0.8888888888888888, \"#fdca26\"], [1.0, \"#f0f921\"]], \"sequentialminus\": [[0.0, \"#0d0887\"], [0.1111111111111111, \"#46039f\"], [0.2222222222222222, \"#7201a8\"], [0.3333333333333333, \"#9c179e\"], [0.4444444444444444, \"#bd3786\"], [0.5555555555555556, \"#d8576b\"], [0.6666666666666666, \"#ed7953\"], [0.7777777777777778, \"#fb9f3a\"], [0.8888888888888888, \"#fdca26\"], [1.0, \"#f0f921\"]]}, \"colorway\": [\"#636efa\", \"#EF553B\", \"#00cc96\", \"#ab63fa\", \"#FFA15A\", \"#19d3f3\", \"#FF6692\", \"#B6E880\", \"#FF97FF\", \"#FECB52\"], \"font\": {\"color\": \"#2a3f5f\"}, \"geo\": {\"bgcolor\": \"white\", \"lakecolor\": \"white\", \"landcolor\": \"#E5ECF6\", \"showlakes\": true, \"showland\": true, \"subunitcolor\": \"white\"}, \"hoverlabel\": {\"align\": \"left\"}, \"hovermode\": \"closest\", \"mapbox\": {\"style\": \"light\"}, \"paper_bgcolor\": \"white\", \"plot_bgcolor\": \"#E5ECF6\", \"polar\": {\"angularaxis\": {\"gridcolor\": \"white\", \"linecolor\": \"white\", \"ticks\": \"\"}, \"bgcolor\": \"#E5ECF6\", \"radialaxis\": {\"gridcolor\": \"white\", \"linecolor\": \"white\", \"ticks\": \"\"}}, \"scene\": {\"xaxis\": {\"backgroundcolor\": \"#E5ECF6\", \"gridcolor\": \"white\", \"gridwidth\": 2, \"linecolor\": \"white\", \"showbackground\": true, \"ticks\": \"\", \"zerolinecolor\": \"white\"}, \"yaxis\": {\"backgroundcolor\": \"#E5ECF6\", \"gridcolor\": \"white\", \"gridwidth\": 2, \"linecolor\": \"white\", \"showbackground\": true, \"ticks\": \"\", \"zerolinecolor\": \"white\"}, \"zaxis\": {\"backgroundcolor\": \"#E5ECF6\", \"gridcolor\": \"white\", \"gridwidth\": 2, \"linecolor\": \"white\", \"showbackground\": true, \"ticks\": \"\", \"zerolinecolor\": \"white\"}}, \"shapedefaults\": {\"line\": {\"color\": \"#2a3f5f\"}}, \"ternary\": {\"aaxis\": {\"gridcolor\": \"white\", \"linecolor\": \"white\", \"ticks\": \"\"}, \"baxis\": {\"gridcolor\": \"white\", \"linecolor\": \"white\", \"ticks\": \"\"}, \"bgcolor\": \"#E5ECF6\", \"caxis\": {\"gridcolor\": \"white\", \"linecolor\": \"white\", \"ticks\": \"\"}}, \"title\": {\"x\": 0.05}, \"xaxis\": {\"automargin\": true, \"gridcolor\": \"white\", \"linecolor\": \"white\", \"ticks\": \"\", \"title\": {\"standoff\": 15}, \"zerolinecolor\": \"white\", \"zerolinewidth\": 2}, \"yaxis\": {\"automargin\": true, \"gridcolor\": \"white\", \"linecolor\": \"white\", \"ticks\": \"\", \"title\": {\"standoff\": 15}, \"zerolinecolor\": \"white\", \"zerolinewidth\": 2}}}, \"xaxis\": {\"anchor\": \"y\", \"domain\": [0.0, 1.0], \"title\": {\"text\": \"March\"}}, \"yaxis\": {\"anchor\": \"x\", \"domain\": [0.0, 1.0], \"title\": {\"text\": \"Amplitude\"}}},\n",
       "                        {\"responsive\": true}\n",
       "                    ).then(function(){\n",
       "                            \n",
       "var gd = document.getElementById('5e31d5ba-4b9c-418b-9056-ace98c2b0708');\n",
       "var x = new MutationObserver(function (mutations, observer) {{\n",
       "        var display = window.getComputedStyle(gd).display;\n",
       "        if (!display || display === 'none') {{\n",
       "            console.log([gd, 'removed!']);\n",
       "            Plotly.purge(gd);\n",
       "            observer.disconnect();\n",
       "        }}\n",
       "}});\n",
       "\n",
       "// Listen for the removal of the full notebook cells\n",
       "var notebookContainer = gd.closest('#notebook-container');\n",
       "if (notebookContainer) {{\n",
       "    x.observe(notebookContainer, {childList: true});\n",
       "}}\n",
       "\n",
       "// Listen for the clearing of the current output cell\n",
       "var outputEl = gd.closest('.output');\n",
       "if (outputEl) {{\n",
       "    x.observe(outputEl, {childList: true});\n",
       "}}\n",
       "\n",
       "                        })\n",
       "                };\n",
       "                \n",
       "            </script>\n",
       "        </div>\n",
       "</body>\n",
       "</html>"
      ]
     },
     "metadata": {
      "tags": []
     }
    }
   ]
  },
  {
   "cell_type": "code",
   "metadata": {
    "colab": {
     "base_uri": "https://localhost:8080/",
     "height": 562
    },
    "id": "0x4GNjDV_DYT",
    "outputId": "4af21db1-9b94-485c-8bba-0b948e815105",
    "pycharm": {
     "name": "#%%\n"
    }
   },
   "source": [
    "fig2 = px.scatter(tempDataFrame, x=tempDataFrame.index, y='January')\n",
    "fig2.show()"
   ],
   "execution_count": 22,
   "outputs": [
    {
     "output_type": "display_data",
     "data": {
      "text/html": [
       "<html>\n",
       "<head><meta charset=\"utf-8\" /></head>\n",
       "<body>\n",
       "    <div>\n",
       "            <script src=\"https://cdnjs.cloudflare.com/ajax/libs/mathjax/2.7.5/MathJax.js?config=TeX-AMS-MML_SVG\"></script><script type=\"text/javascript\">if (window.MathJax) {MathJax.Hub.Config({SVG: {font: \"STIX-Web\"}});}</script>\n",
       "                <script type=\"text/javascript\">window.PlotlyConfig = {MathJaxConfig: 'local'};</script>\n",
       "        <script src=\"https://cdn.plot.ly/plotly-latest.min.js\"></script>    \n",
       "            <div id=\"80d3f7d8-788c-40ae-a1d9-375947fa92a0\" class=\"plotly-graph-div\" style=\"height:525px; width:100%;\"></div>\n",
       "            <script type=\"text/javascript\">\n",
       "                \n",
       "                    window.PLOTLYENV=window.PLOTLYENV || {};\n",
       "                    \n",
       "                if (document.getElementById(\"80d3f7d8-788c-40ae-a1d9-375947fa92a0\")) {\n",
       "                    Plotly.newPlot(\n",
       "                        '80d3f7d8-788c-40ae-a1d9-375947fa92a0',\n",
       "                        [{\"hoverlabel\": {\"namelength\": 0}, \"hovertemplate\": \"x=%{x}<br>January=%{y}\", \"legendgroup\": \"\", \"marker\": {\"color\": \"#636efa\", \"symbol\": \"circle\"}, \"mode\": \"markers\", \"name\": \"\", \"showlegend\": false, \"type\": \"scatter\", \"x\": [\"Amsterdam \", \"Athens \", \"Berlin \", \"Brussels\", \"Budapest \", \"Copenhagen \", \"Dublin \", \"Elsinki\", \"Kiev \", \"Krakow \", \"Lisbon \", \"London \", \"Madrid \", \"Minsk \", \"Moscow\", \"Oslo \", \"Paris \", \"Prague \", \"Reykjavik \", \"Rome \", \"Sarajevo \", \"Sofia \", \"Stockholm \", \"Antwerp \", \"Barcelona \", \"Bordeaux \", \"Edinburgh \", \"Frankfurt \", \"Geneva \", \"Genoa \", \"Milan \", \"Palermo \", \"Seville \", \"St. Petersburg \", \"Zurich \"], \"xaxis\": \"x\", \"y\": [2.9, 9.1, -0.2, 3.3, -1.1, -0.4, 4.8, -5.8, -5.9, -3.7, 10.5, 3.4, 5.0, -6.9, -9.3, -4.3, 3.7, -1.3, -0.3, 7.1, -1.4, -1.7, -3.5, 3.1, 9.1, 5.6, 2.9, 0.2, 0.1, 8.7, 1.1, 10.5, 10.7, -8.2, -0.7], \"yaxis\": \"y\"}],\n",
       "                        {\"legend\": {\"tracegroupgap\": 0}, \"margin\": {\"t\": 60}, \"template\": {\"data\": {\"bar\": [{\"error_x\": {\"color\": \"#2a3f5f\"}, \"error_y\": {\"color\": \"#2a3f5f\"}, \"marker\": {\"line\": {\"color\": \"#E5ECF6\", \"width\": 0.5}}, \"type\": \"bar\"}], \"barpolar\": [{\"marker\": {\"line\": {\"color\": \"#E5ECF6\", \"width\": 0.5}}, \"type\": \"barpolar\"}], \"carpet\": [{\"aaxis\": {\"endlinecolor\": \"#2a3f5f\", \"gridcolor\": \"white\", \"linecolor\": \"white\", \"minorgridcolor\": \"white\", \"startlinecolor\": \"#2a3f5f\"}, \"baxis\": {\"endlinecolor\": \"#2a3f5f\", \"gridcolor\": \"white\", \"linecolor\": \"white\", \"minorgridcolor\": \"white\", \"startlinecolor\": \"#2a3f5f\"}, \"type\": \"carpet\"}], \"choropleth\": [{\"colorbar\": {\"outlinewidth\": 0, \"ticks\": \"\"}, \"type\": \"choropleth\"}], \"contour\": [{\"colorbar\": {\"outlinewidth\": 0, \"ticks\": \"\"}, \"colorscale\": [[0.0, \"#0d0887\"], [0.1111111111111111, \"#46039f\"], [0.2222222222222222, \"#7201a8\"], [0.3333333333333333, \"#9c179e\"], [0.4444444444444444, \"#bd3786\"], [0.5555555555555556, \"#d8576b\"], [0.6666666666666666, \"#ed7953\"], [0.7777777777777778, \"#fb9f3a\"], [0.8888888888888888, \"#fdca26\"], [1.0, \"#f0f921\"]], \"type\": \"contour\"}], \"contourcarpet\": [{\"colorbar\": {\"outlinewidth\": 0, \"ticks\": \"\"}, \"type\": \"contourcarpet\"}], \"heatmap\": [{\"colorbar\": {\"outlinewidth\": 0, \"ticks\": \"\"}, \"colorscale\": [[0.0, \"#0d0887\"], [0.1111111111111111, \"#46039f\"], [0.2222222222222222, \"#7201a8\"], [0.3333333333333333, \"#9c179e\"], [0.4444444444444444, \"#bd3786\"], [0.5555555555555556, \"#d8576b\"], [0.6666666666666666, \"#ed7953\"], [0.7777777777777778, \"#fb9f3a\"], [0.8888888888888888, \"#fdca26\"], [1.0, \"#f0f921\"]], \"type\": \"heatmap\"}], \"heatmapgl\": [{\"colorbar\": {\"outlinewidth\": 0, \"ticks\": \"\"}, \"colorscale\": [[0.0, \"#0d0887\"], [0.1111111111111111, \"#46039f\"], [0.2222222222222222, \"#7201a8\"], [0.3333333333333333, \"#9c179e\"], [0.4444444444444444, \"#bd3786\"], [0.5555555555555556, \"#d8576b\"], [0.6666666666666666, \"#ed7953\"], [0.7777777777777778, \"#fb9f3a\"], [0.8888888888888888, \"#fdca26\"], [1.0, \"#f0f921\"]], \"type\": \"heatmapgl\"}], \"histogram\": [{\"marker\": {\"colorbar\": {\"outlinewidth\": 0, \"ticks\": \"\"}}, \"type\": \"histogram\"}], \"histogram2d\": [{\"colorbar\": {\"outlinewidth\": 0, \"ticks\": \"\"}, \"colorscale\": [[0.0, \"#0d0887\"], [0.1111111111111111, \"#46039f\"], [0.2222222222222222, \"#7201a8\"], [0.3333333333333333, \"#9c179e\"], [0.4444444444444444, \"#bd3786\"], [0.5555555555555556, \"#d8576b\"], [0.6666666666666666, \"#ed7953\"], [0.7777777777777778, \"#fb9f3a\"], [0.8888888888888888, \"#fdca26\"], [1.0, \"#f0f921\"]], \"type\": \"histogram2d\"}], \"histogram2dcontour\": [{\"colorbar\": {\"outlinewidth\": 0, \"ticks\": \"\"}, \"colorscale\": [[0.0, \"#0d0887\"], [0.1111111111111111, \"#46039f\"], [0.2222222222222222, \"#7201a8\"], [0.3333333333333333, \"#9c179e\"], [0.4444444444444444, \"#bd3786\"], [0.5555555555555556, \"#d8576b\"], [0.6666666666666666, \"#ed7953\"], [0.7777777777777778, \"#fb9f3a\"], [0.8888888888888888, \"#fdca26\"], [1.0, \"#f0f921\"]], \"type\": \"histogram2dcontour\"}], \"mesh3d\": [{\"colorbar\": {\"outlinewidth\": 0, \"ticks\": \"\"}, \"type\": \"mesh3d\"}], \"parcoords\": [{\"line\": {\"colorbar\": {\"outlinewidth\": 0, \"ticks\": \"\"}}, \"type\": \"parcoords\"}], \"pie\": [{\"automargin\": true, \"type\": \"pie\"}], \"scatter\": [{\"marker\": {\"colorbar\": {\"outlinewidth\": 0, \"ticks\": \"\"}}, \"type\": \"scatter\"}], \"scatter3d\": [{\"line\": {\"colorbar\": {\"outlinewidth\": 0, \"ticks\": \"\"}}, \"marker\": {\"colorbar\": {\"outlinewidth\": 0, \"ticks\": \"\"}}, \"type\": \"scatter3d\"}], \"scattercarpet\": [{\"marker\": {\"colorbar\": {\"outlinewidth\": 0, \"ticks\": \"\"}}, \"type\": \"scattercarpet\"}], \"scattergeo\": [{\"marker\": {\"colorbar\": {\"outlinewidth\": 0, \"ticks\": \"\"}}, \"type\": \"scattergeo\"}], \"scattergl\": [{\"marker\": {\"colorbar\": {\"outlinewidth\": 0, \"ticks\": \"\"}}, \"type\": \"scattergl\"}], \"scattermapbox\": [{\"marker\": {\"colorbar\": {\"outlinewidth\": 0, \"ticks\": \"\"}}, \"type\": \"scattermapbox\"}], \"scatterpolar\": [{\"marker\": {\"colorbar\": {\"outlinewidth\": 0, \"ticks\": \"\"}}, \"type\": \"scatterpolar\"}], \"scatterpolargl\": [{\"marker\": {\"colorbar\": {\"outlinewidth\": 0, \"ticks\": \"\"}}, \"type\": \"scatterpolargl\"}], \"scatterternary\": [{\"marker\": {\"colorbar\": {\"outlinewidth\": 0, \"ticks\": \"\"}}, \"type\": \"scatterternary\"}], \"surface\": [{\"colorbar\": {\"outlinewidth\": 0, \"ticks\": \"\"}, \"colorscale\": [[0.0, \"#0d0887\"], [0.1111111111111111, \"#46039f\"], [0.2222222222222222, \"#7201a8\"], [0.3333333333333333, \"#9c179e\"], [0.4444444444444444, \"#bd3786\"], [0.5555555555555556, \"#d8576b\"], [0.6666666666666666, \"#ed7953\"], [0.7777777777777778, \"#fb9f3a\"], [0.8888888888888888, \"#fdca26\"], [1.0, \"#f0f921\"]], \"type\": \"surface\"}], \"table\": [{\"cells\": {\"fill\": {\"color\": \"#EBF0F8\"}, \"line\": {\"color\": \"white\"}}, \"header\": {\"fill\": {\"color\": \"#C8D4E3\"}, \"line\": {\"color\": \"white\"}}, \"type\": \"table\"}]}, \"layout\": {\"annotationdefaults\": {\"arrowcolor\": \"#2a3f5f\", \"arrowhead\": 0, \"arrowwidth\": 1}, \"coloraxis\": {\"colorbar\": {\"outlinewidth\": 0, \"ticks\": \"\"}}, \"colorscale\": {\"diverging\": [[0, \"#8e0152\"], [0.1, \"#c51b7d\"], [0.2, \"#de77ae\"], [0.3, \"#f1b6da\"], [0.4, \"#fde0ef\"], [0.5, \"#f7f7f7\"], [0.6, \"#e6f5d0\"], [0.7, \"#b8e186\"], [0.8, \"#7fbc41\"], [0.9, \"#4d9221\"], [1, \"#276419\"]], \"sequential\": [[0.0, \"#0d0887\"], [0.1111111111111111, \"#46039f\"], [0.2222222222222222, \"#7201a8\"], [0.3333333333333333, \"#9c179e\"], [0.4444444444444444, \"#bd3786\"], [0.5555555555555556, \"#d8576b\"], [0.6666666666666666, \"#ed7953\"], [0.7777777777777778, \"#fb9f3a\"], [0.8888888888888888, \"#fdca26\"], [1.0, \"#f0f921\"]], \"sequentialminus\": [[0.0, \"#0d0887\"], [0.1111111111111111, \"#46039f\"], [0.2222222222222222, \"#7201a8\"], [0.3333333333333333, \"#9c179e\"], [0.4444444444444444, \"#bd3786\"], [0.5555555555555556, \"#d8576b\"], [0.6666666666666666, \"#ed7953\"], [0.7777777777777778, \"#fb9f3a\"], [0.8888888888888888, \"#fdca26\"], [1.0, \"#f0f921\"]]}, \"colorway\": [\"#636efa\", \"#EF553B\", \"#00cc96\", \"#ab63fa\", \"#FFA15A\", \"#19d3f3\", \"#FF6692\", \"#B6E880\", \"#FF97FF\", \"#FECB52\"], \"font\": {\"color\": \"#2a3f5f\"}, \"geo\": {\"bgcolor\": \"white\", \"lakecolor\": \"white\", \"landcolor\": \"#E5ECF6\", \"showlakes\": true, \"showland\": true, \"subunitcolor\": \"white\"}, \"hoverlabel\": {\"align\": \"left\"}, \"hovermode\": \"closest\", \"mapbox\": {\"style\": \"light\"}, \"paper_bgcolor\": \"white\", \"plot_bgcolor\": \"#E5ECF6\", \"polar\": {\"angularaxis\": {\"gridcolor\": \"white\", \"linecolor\": \"white\", \"ticks\": \"\"}, \"bgcolor\": \"#E5ECF6\", \"radialaxis\": {\"gridcolor\": \"white\", \"linecolor\": \"white\", \"ticks\": \"\"}}, \"scene\": {\"xaxis\": {\"backgroundcolor\": \"#E5ECF6\", \"gridcolor\": \"white\", \"gridwidth\": 2, \"linecolor\": \"white\", \"showbackground\": true, \"ticks\": \"\", \"zerolinecolor\": \"white\"}, \"yaxis\": {\"backgroundcolor\": \"#E5ECF6\", \"gridcolor\": \"white\", \"gridwidth\": 2, \"linecolor\": \"white\", \"showbackground\": true, \"ticks\": \"\", \"zerolinecolor\": \"white\"}, \"zaxis\": {\"backgroundcolor\": \"#E5ECF6\", \"gridcolor\": \"white\", \"gridwidth\": 2, \"linecolor\": \"white\", \"showbackground\": true, \"ticks\": \"\", \"zerolinecolor\": \"white\"}}, \"shapedefaults\": {\"line\": {\"color\": \"#2a3f5f\"}}, \"ternary\": {\"aaxis\": {\"gridcolor\": \"white\", \"linecolor\": \"white\", \"ticks\": \"\"}, \"baxis\": {\"gridcolor\": \"white\", \"linecolor\": \"white\", \"ticks\": \"\"}, \"bgcolor\": \"#E5ECF6\", \"caxis\": {\"gridcolor\": \"white\", \"linecolor\": \"white\", \"ticks\": \"\"}}, \"title\": {\"x\": 0.05}, \"xaxis\": {\"automargin\": true, \"gridcolor\": \"white\", \"linecolor\": \"white\", \"ticks\": \"\", \"title\": {\"standoff\": 15}, \"zerolinecolor\": \"white\", \"zerolinewidth\": 2}, \"yaxis\": {\"automargin\": true, \"gridcolor\": \"white\", \"linecolor\": \"white\", \"ticks\": \"\", \"title\": {\"standoff\": 15}, \"zerolinecolor\": \"white\", \"zerolinewidth\": 2}}}, \"xaxis\": {\"anchor\": \"y\", \"domain\": [0.0, 1.0], \"title\": {\"text\": \"x\"}}, \"yaxis\": {\"anchor\": \"x\", \"domain\": [0.0, 1.0], \"title\": {\"text\": \"January\"}}},\n",
       "                        {\"responsive\": true}\n",
       "                    ).then(function(){\n",
       "                            \n",
       "var gd = document.getElementById('80d3f7d8-788c-40ae-a1d9-375947fa92a0');\n",
       "var x = new MutationObserver(function (mutations, observer) {{\n",
       "        var display = window.getComputedStyle(gd).display;\n",
       "        if (!display || display === 'none') {{\n",
       "            console.log([gd, 'removed!']);\n",
       "            Plotly.purge(gd);\n",
       "            observer.disconnect();\n",
       "        }}\n",
       "}});\n",
       "\n",
       "// Listen for the removal of the full notebook cells\n",
       "var notebookContainer = gd.closest('#notebook-container');\n",
       "if (notebookContainer) {{\n",
       "    x.observe(notebookContainer, {childList: true});\n",
       "}}\n",
       "\n",
       "// Listen for the clearing of the current output cell\n",
       "var outputEl = gd.closest('.output');\n",
       "if (outputEl) {{\n",
       "    x.observe(outputEl, {childList: true});\n",
       "}}\n",
       "\n",
       "                        })\n",
       "                };\n",
       "                \n",
       "            </script>\n",
       "        </div>\n",
       "</body>\n",
       "</html>"
      ]
     },
     "metadata": {
      "tags": []
     }
    }
   ]
  }
 ]
}